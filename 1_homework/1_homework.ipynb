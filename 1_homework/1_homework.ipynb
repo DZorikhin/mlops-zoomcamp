{
 "cells": [
  {
   "cell_type": "code",
   "execution_count": 1,
   "id": "b27a37c2-8860-4fef-af5b-7b41de036977",
   "metadata": {},
   "outputs": [],
   "source": [
    "import pandas as pd"
   ]
  },
  {
   "cell_type": "code",
   "execution_count": 2,
   "id": "711ee453-16d2-465f-84fc-455778a8ae12",
   "metadata": {},
   "outputs": [],
   "source": [
    "import seaborn as sns\n",
    "import matplotlib.pyplot as plt"
   ]
  },
  {
   "cell_type": "code",
   "execution_count": 3,
   "id": "f633fb60-29e3-474b-b19f-a41cfcb99337",
   "metadata": {},
   "outputs": [],
   "source": [
    "from sklearn.feature_extraction import DictVectorizer"
   ]
  },
  {
   "cell_type": "code",
   "execution_count": 4,
   "id": "3205ce8c-9b5c-4009-a046-40641661f73d",
   "metadata": {},
   "outputs": [],
   "source": [
    "from sklearn.linear_model import LinearRegression\n",
    "\n",
    "from sklearn.metrics import mean_squared_error"
   ]
  },
  {
   "cell_type": "code",
   "execution_count": 5,
   "id": "6fe2881e-0439-412d-b401-e10754adca87",
   "metadata": {},
   "outputs": [],
   "source": [
    "df_jan = pd.read_parquet('fhv_tripdata_2021-01.parquet')"
   ]
  },
  {
   "cell_type": "code",
   "execution_count": 6,
   "id": "39a8a014-c219-4edf-914e-62a14bf4dd9c",
   "metadata": {},
   "outputs": [
    {
     "data": {
      "text/plain": [
       "(1154112, 7)"
      ]
     },
     "execution_count": 6,
     "metadata": {},
     "output_type": "execute_result"
    }
   ],
   "source": [
    "df_jan.shape"
   ]
  },
  {
   "cell_type": "code",
   "execution_count": 7,
   "id": "9a32b5d7-f986-43d3-8b49-013579578b03",
   "metadata": {},
   "outputs": [],
   "source": [
    "df_jan['duration'] = df_jan.dropOff_datetime - df_jan.pickup_datetime\n",
    "df_jan.duration = df_jan.duration.apply(lambda td: round(td.total_seconds() / 60, 2))"
   ]
  },
  {
   "cell_type": "code",
   "execution_count": 8,
   "id": "92b514a4-3b04-4dc2-b7b3-c639013277d9",
   "metadata": {},
   "outputs": [
    {
     "data": {
      "text/plain": [
       "19.167224255533032"
      ]
     },
     "execution_count": 8,
     "metadata": {},
     "output_type": "execute_result"
    }
   ],
   "source": [
    "df_jan.duration.mean()"
   ]
  },
  {
   "cell_type": "code",
   "execution_count": 9,
   "id": "9843c68c-c9d9-41b7-8082-db6e71d9a60f",
   "metadata": {},
   "outputs": [
    {
     "name": "stderr",
     "output_type": "stream",
     "text": [
      "/Users/zorikhin/anaconda3/envs/mlzoomcamp/lib/python3.8/site-packages/seaborn/distributions.py:2619: FutureWarning: `distplot` is a deprecated function and will be removed in a future version. Please adapt your code to use either `displot` (a figure-level function with similar flexibility) or `histplot` (an axes-level function for histograms).\n",
      "  warnings.warn(msg, FutureWarning)\n"
     ]
    },
    {
     "data": {
      "text/plain": [
       "<AxesSubplot:xlabel='duration', ylabel='Density'>"
      ]
     },
     "execution_count": 9,
     "metadata": {},
     "output_type": "execute_result"
    },
    {
     "data": {
      "image/png": "[encoded data removed]",
      "text/plain": [
       "<Figure size 432x288 with 1 Axes>"
      ]
     },
     "metadata": {
      "needs_background": "light"
     },
     "output_type": "display_data"
    }
   ],
   "source": [
    "sns.distplot(df_jan.duration, label='duration')"
   ]
  },
  {
   "cell_type": "code",
   "execution_count": 10,
   "id": "06ab21bf-ebed-4b49-80f4-9244d5a997f7",
   "metadata": {},
   "outputs": [
    {
     "data": {
      "text/plain": [
       "dispatching_base_num      29262\n",
       "pickup_datetime           29262\n",
       "dropOff_datetime          29262\n",
       "PUlocationID               6702\n",
       "DOlocationID              15932\n",
       "SR_Flag                       0\n",
       "Affiliated_base_number    29150\n",
       "duration                  29262\n",
       "dtype: int64"
      ]
     },
     "execution_count": 10,
     "metadata": {},
     "output_type": "execute_result"
    }
   ],
   "source": [
    "df_jan[df_jan.duration > 60].count()"
   ]
  },
  {
   "cell_type": "code",
   "execution_count": 11,
   "id": "ad9b651e-d1a2-4510-90b6-dbf5b1a8df24",
   "metadata": {},
   "outputs": [],
   "source": [
    "df_jan = df_jan[(df_jan.duration >= 1) & (df_jan.duration <= 60)]"
   ]
  },
  {
   "cell_type": "code",
   "execution_count": 12,
   "id": "a214b25e-ff12-4cf2-8dc7-26b47c244d4f",
   "metadata": {},
   "outputs": [
    {
     "name": "stderr",
     "output_type": "stream",
     "text": [
      "/Users/zorikhin/anaconda3/envs/mlzoomcamp/lib/python3.8/site-packages/seaborn/distributions.py:2619: FutureWarning: `distplot` is a deprecated function and will be removed in a future version. Please adapt your code to use either `displot` (a figure-level function with similar flexibility) or `histplot` (an axes-level function for histograms).\n",
      "  warnings.warn(msg, FutureWarning)\n"
     ]
    },
    {
     "data": {
      "text/plain": [
       "<AxesSubplot:xlabel='duration', ylabel='Density'>"
      ]
     },
     "execution_count": 12,
     "metadata": {},
     "output_type": "execute_result"
    },
    {
     "data": {
      "image/png": "[encoded data removed]",
      "text/plain": [
       "<Figure size 432x288 with 1 Axes>"
      ]
     },
     "metadata": {
      "needs_background": "light"
     },
     "output_type": "display_data"
    }
   ],
   "source": [
    "sns.distplot(df_jan.duration, label='duration')"
   ]
  },
  {
   "cell_type": "code",
   "execution_count": 13,
   "id": "b596694a-321a-45a0-af83-9cd7364b4edd",
   "metadata": {},
   "outputs": [],
   "source": [
    "df_jan[['PUlocationID', 'DOlocationID']] = df_jan[['PUlocationID', 'DOlocationID']].fillna(value=-1)"
   ]
  },
  {
   "cell_type": "code",
   "execution_count": 14,
   "id": "f94af59b-c2af-441f-8de8-45b0f04573ad",
   "metadata": {},
   "outputs": [
    {
     "data": {
      "text/plain": [
       "0.8352732770722617"
      ]
     },
     "execution_count": 14,
     "metadata": {},
     "output_type": "execute_result"
    }
   ],
   "source": [
    "(df_jan.PUlocationID == -1).sum() / df_jan.PUlocationID.count()"
   ]
  },
  {
   "cell_type": "code",
   "execution_count": 15,
   "id": "87186a79-9f7b-4d7c-87fb-956eef64c1f2",
   "metadata": {},
   "outputs": [],
   "source": [
    "df_jan[['PUlocationID', 'DOlocationID']] = df_jan[['PUlocationID', 'DOlocationID']].astype(str)"
   ]
  },
  {
   "cell_type": "code",
   "execution_count": 16,
   "id": "893aa06c-bb50-4742-9cb0-2f74531e3547",
   "metadata": {},
   "outputs": [],
   "source": [
    "train_dicts = df_jan[['PUlocationID', 'DOlocationID']].to_dict(orient='records')\n",
    "\n",
    "dv = DictVectorizer()"
   ]
  },
  {
   "cell_type": "code",
   "execution_count": 17,
   "id": "71b4cad8-1eff-408e-839b-7adb7812e6ea",
   "metadata": {},
   "outputs": [],
   "source": [
    "X_train = dv.fit_transform(train_dicts)\n",
    "\n",
    "target = 'duration'\n",
    "y_train = df_jan[target].values"
   ]
  },
  {
   "cell_type": "code",
   "execution_count": 18,
   "id": "472b1066-b3c9-4db4-bccd-5149f820cf58",
   "metadata": {},
   "outputs": [
    {
     "data": {
      "text/plain": [
       "<1109826x525 sparse matrix of type '<class 'numpy.float64'>'\n",
       "\twith 2219652 stored elements in Compressed Sparse Row format>"
      ]
     },
     "execution_count": 18,
     "metadata": {},
     "output_type": "execute_result"
    }
   ],
   "source": [
    "X_train"
   ]
  },
  {
   "cell_type": "code",
   "execution_count": 19,
   "id": "ae1ff807-d3d4-446c-9ce9-a87b60fc3f10",
   "metadata": {},
   "outputs": [
    {
     "data": {
      "text/plain": [
       "10.528521788891283"
      ]
     },
     "execution_count": 19,
     "metadata": {},
     "output_type": "execute_result"
    }
   ],
   "source": [
    "lr = LinearRegression()\n",
    "lr.fit(X_train, y_train)\n",
    "\n",
    "y_pred = lr.predict(X_train)\n",
    "\n",
    "mean_squared_error(y_train, y_pred, squared=False)"
   ]
  },
  {
   "cell_type": "code",
   "execution_count": 20,
   "id": "6eeba5b9-5e35-4faa-ade0-9bae8a4273b4",
   "metadata": {},
   "outputs": [],
   "source": [
    "df_feb = pd.read_parquet('fhv_tripdata_2021-02.parquet')\n",
    "df_feb['duration'] = df_feb.dropOff_datetime - df_feb.pickup_datetime\n",
    "df_feb.duration = df_feb.duration.apply(lambda td: round(td.total_seconds() / 60, 2))\n",
    "df_feb = df_feb[(df_feb.duration >= 1) & (df_feb.duration <= 60)]\n",
    "df_feb[['PUlocationID', 'DOlocationID']] = df_feb[['PUlocationID', 'DOlocationID']].fillna(value=-1)\n",
    "df_feb[['PUlocationID', 'DOlocationID']] = df_feb[['PUlocationID', 'DOlocationID']].astype(str)"
   ]
  },
  {
   "cell_type": "code",
   "execution_count": 21,
   "id": "25bec030-eab5-41df-9ee3-64ac3b611131",
   "metadata": {},
   "outputs": [],
   "source": [
    "val_dicts = df_feb[['PUlocationID', 'DOlocationID']].to_dict(orient='records')\n",
    "X_val = dv.transform(val_dicts)\n",
    "y_val = df_feb[target].values"
   ]
  },
  {
   "cell_type": "code",
   "execution_count": 22,
   "id": "d565138f-b19f-475e-b279-238560c7d2a3",
   "metadata": {},
   "outputs": [
    {
     "data": {
      "text/plain": [
       "11.014281759154825"
      ]
     },
     "execution_count": 22,
     "metadata": {},
     "output_type": "execute_result"
    }
   ],
   "source": [
    "lr = LinearRegression()\n",
    "lr.fit(X_train, y_train)\n",
    "\n",
    "y_pred = lr.predict(X_val)\n",
    "\n",
    "mean_squared_error(y_val, y_pred, squared=False)"
   ]
  },
  {
   "cell_type": "code",
   "execution_count": null,
   "id": "095421fd-ccbd-4420-ac52-afd16cb4b488",
   "metadata": {},
   "outputs": [],
   "source": []
  }
 ],
 "metadata": {
  "kernelspec": {
   "display_name": "Python 3.8.11 64-bit ('mlzoomcamp': conda)",
   "language": "python",
   "name": "python381164bitmlzoomcampconda946de060af8e4baebddb1d08ab53a61d"
  },
  "language_info": {
   "codemirror_mode": {
    "name": "ipython",
    "version": 3
   },
   "file_extension": ".py",
   "mimetype": "text/x-python",
   "name": "python",
   "nbconvert_exporter": "python",
   "pygments_lexer": "ipython3",
   "version": "3.8.11"
  }
 },
 "nbformat": 4,
 "nbformat_minor": 5
}
